{
 "cells": [
  {
   "cell_type": "markdown",
   "id": "bcb234ee",
   "metadata": {},
   "source": [
    "# Covid Vaccine Data Clean"
   ]
  },
  {
   "cell_type": "markdown",
   "id": "c17c22d1",
   "metadata": {},
   "source": [
    "Used MongoDBCompass to import and establish a connection with covid_vac.csv "
   ]
  },
  {
   "cell_type": "markdown",
   "id": "6c63afc3",
   "metadata": {},
   "source": [
    "## Notebook Set Up"
   ]
  },
  {
   "cell_type": "code",
   "execution_count": 1,
   "id": "252c9b98",
   "metadata": {},
   "outputs": [],
   "source": [
    "# Import dependencies\n",
    "from pymongo import MongoClient\n",
    "from pprint import pprint\n",
    "import pandas as pd"
   ]
  },
  {
   "cell_type": "code",
   "execution_count": 2,
   "id": "d66800fe",
   "metadata": {},
   "outputs": [],
   "source": [
    "# Create an instance of MongoClient\n",
    "mongo = MongoClient(port=27017)"
   ]
  },
  {
   "cell_type": "code",
   "execution_count": 3,
   "id": "8e92b2cb",
   "metadata": {},
   "outputs": [
    {
     "name": "stdout",
     "output_type": "stream",
     "text": [
      "['admin', 'autosaurus', 'classDB', 'config', 'fruits_db', 'local', 'met', 'travel_db', 'uk_food']\n"
     ]
    }
   ],
   "source": [
    "# confirm that \"admin\" database is in MongoDb\n",
    "print(mongo.list_database_names())"
   ]
  },
  {
   "cell_type": "code",
   "execution_count": 5,
   "id": "54eff31d",
   "metadata": {},
   "outputs": [],
   "source": [
    "# assign the admin database to a variable name\n",
    "db = mongo['admin']"
   ]
  },
  {
   "cell_type": "code",
   "execution_count": 6,
   "id": "5003f302",
   "metadata": {},
   "outputs": [
    {
     "name": "stdout",
     "output_type": "stream",
     "text": [
      "['covid_vac', 'system.version']\n"
     ]
    }
   ],
   "source": [
    "# review the collections (tables) in our database\n",
    "print(db.list_collection_names())"
   ]
  },
  {
   "cell_type": "code",
   "execution_count": 7,
   "id": "ef9d6f17",
   "metadata": {},
   "outputs": [],
   "source": [
    "# assign the collection to a variable\n",
    "covid_vac = db['covid_vac']"
   ]
  },
  {
   "cell_type": "code",
   "execution_count": 26,
   "id": "3ea15d87",
   "metadata": {},
   "outputs": [
    {
     "name": "stdout",
     "output_type": "stream",
     "text": [
      "{'_id': ObjectId('646684e5c50e0eddf0d85b5a'),\n",
      " 'continent': 'Asia',\n",
      " 'date': '2021-06-27',\n",
      " 'gdp_per_capita': 1803.987,\n",
      " 'location': 'Afghanistan',\n",
      " 'people_fully_vaccinated': 186260.0,\n",
      " 'people_fully_vaccinated_per_hundred': 0.45,\n",
      " 'people_vaccinated': 649434.0,\n",
      " 'people_vaccinated_per_hundred': 1.58,\n",
      " 'population': 41128772.0,\n",
      " 'total_cases': 114220.0,\n",
      " 'total_cases_per_million': 2777.131}\n"
     ]
    }
   ],
   "source": [
    "# review a document in the 'covid_vac' collection\n",
    "# using a specific date as some 'key:value' pairs don't have all the 'keys'\n",
    "# this will print out the'key;value(s)' pairs in our collection (table)\n",
    "pprint(db.covid_vac.find_one({\"date\": \"2021-06-27\"}))"
   ]
  },
  {
   "cell_type": "markdown",
   "id": "d0868ad7",
   "metadata": {},
   "source": [
    "## Clean The Data"
   ]
  },
  {
   "cell_type": "code",
   "execution_count": 48,
   "id": "cb8844a5",
   "metadata": {},
   "outputs": [],
   "source": [
    "# Retrieve data from the MongoDB collection\n",
    "results = covid_vac.find()"
   ]
  },
  {
   "cell_type": "code",
   "execution_count": 46,
   "id": "ea6b40a6",
   "metadata": {},
   "outputs": [],
   "source": [
    "# Create a Pandas DataFrame\n",
    "df = pd.DataFrame(results)"
   ]
  },
  {
   "cell_type": "code",
   "execution_count": 49,
   "id": "9d820a6b",
   "metadata": {},
   "outputs": [
    {
     "name": "stdout",
     "output_type": "stream",
     "text": [
      "rows in DataFrame: 309690\n"
     ]
    }
   ],
   "source": [
    "# Print the number of rows in the DataFrame\n",
    "print('rows in DataFrame:', len(df))"
   ]
  },
  {
   "cell_type": "code",
   "execution_count": 47,
   "id": "ad638eb9",
   "metadata": {},
   "outputs": [
    {
     "data": {
      "text/html": [
       "<div>\n",
       "<style scoped>\n",
       "    .dataframe tbody tr th:only-of-type {\n",
       "        vertical-align: middle;\n",
       "    }\n",
       "\n",
       "    .dataframe tbody tr th {\n",
       "        vertical-align: top;\n",
       "    }\n",
       "\n",
       "    .dataframe thead th {\n",
       "        text-align: right;\n",
       "    }\n",
       "</style>\n",
       "<table border=\"1\" class=\"dataframe\">\n",
       "  <thead>\n",
       "    <tr style=\"text-align: right;\">\n",
       "      <th></th>\n",
       "      <th>_id</th>\n",
       "      <th>continent</th>\n",
       "      <th>date</th>\n",
       "      <th>gdp_per_capita</th>\n",
       "      <th>location</th>\n",
       "      <th>population</th>\n",
       "      <th>total_cases_per_million</th>\n",
       "      <th>total_cases</th>\n",
       "      <th>people_vaccinated</th>\n",
       "      <th>people_vaccinated_per_hundred</th>\n",
       "      <th>people_fully_vaccinated</th>\n",
       "      <th>people_fully_vaccinated_per_hundred</th>\n",
       "    </tr>\n",
       "  </thead>\n",
       "  <tbody>\n",
       "    <tr>\n",
       "      <th>0</th>\n",
       "      <td>646684e5c50e0eddf0d8593d</td>\n",
       "      <td>Asia</td>\n",
       "      <td>2020-01-03</td>\n",
       "      <td>1803.987</td>\n",
       "      <td>Afghanistan</td>\n",
       "      <td>41128772.0</td>\n",
       "      <td>NaN</td>\n",
       "      <td>NaN</td>\n",
       "      <td>NaN</td>\n",
       "      <td>NaN</td>\n",
       "      <td>NaN</td>\n",
       "      <td>NaN</td>\n",
       "    </tr>\n",
       "    <tr>\n",
       "      <th>1</th>\n",
       "      <td>646684e5c50e0eddf0d8593e</td>\n",
       "      <td>Asia</td>\n",
       "      <td>2020-01-04</td>\n",
       "      <td>1803.987</td>\n",
       "      <td>Afghanistan</td>\n",
       "      <td>41128772.0</td>\n",
       "      <td>NaN</td>\n",
       "      <td>NaN</td>\n",
       "      <td>NaN</td>\n",
       "      <td>NaN</td>\n",
       "      <td>NaN</td>\n",
       "      <td>NaN</td>\n",
       "    </tr>\n",
       "    <tr>\n",
       "      <th>2</th>\n",
       "      <td>646684e5c50e0eddf0d8593f</td>\n",
       "      <td>Asia</td>\n",
       "      <td>2020-01-05</td>\n",
       "      <td>1803.987</td>\n",
       "      <td>Afghanistan</td>\n",
       "      <td>41128772.0</td>\n",
       "      <td>NaN</td>\n",
       "      <td>NaN</td>\n",
       "      <td>NaN</td>\n",
       "      <td>NaN</td>\n",
       "      <td>NaN</td>\n",
       "      <td>NaN</td>\n",
       "    </tr>\n",
       "    <tr>\n",
       "      <th>3</th>\n",
       "      <td>646684e5c50e0eddf0d85940</td>\n",
       "      <td>Asia</td>\n",
       "      <td>2020-01-06</td>\n",
       "      <td>1803.987</td>\n",
       "      <td>Afghanistan</td>\n",
       "      <td>41128772.0</td>\n",
       "      <td>NaN</td>\n",
       "      <td>NaN</td>\n",
       "      <td>NaN</td>\n",
       "      <td>NaN</td>\n",
       "      <td>NaN</td>\n",
       "      <td>NaN</td>\n",
       "    </tr>\n",
       "    <tr>\n",
       "      <th>4</th>\n",
       "      <td>646684e5c50e0eddf0d85941</td>\n",
       "      <td>Asia</td>\n",
       "      <td>2020-01-07</td>\n",
       "      <td>1803.987</td>\n",
       "      <td>Afghanistan</td>\n",
       "      <td>41128772.0</td>\n",
       "      <td>NaN</td>\n",
       "      <td>NaN</td>\n",
       "      <td>NaN</td>\n",
       "      <td>NaN</td>\n",
       "      <td>NaN</td>\n",
       "      <td>NaN</td>\n",
       "    </tr>\n",
       "    <tr>\n",
       "      <th>5</th>\n",
       "      <td>646684e5c50e0eddf0d85942</td>\n",
       "      <td>Asia</td>\n",
       "      <td>2020-01-08</td>\n",
       "      <td>1803.987</td>\n",
       "      <td>Afghanistan</td>\n",
       "      <td>41128772.0</td>\n",
       "      <td>NaN</td>\n",
       "      <td>NaN</td>\n",
       "      <td>NaN</td>\n",
       "      <td>NaN</td>\n",
       "      <td>NaN</td>\n",
       "      <td>NaN</td>\n",
       "    </tr>\n",
       "    <tr>\n",
       "      <th>6</th>\n",
       "      <td>646684e5c50e0eddf0d85943</td>\n",
       "      <td>Asia</td>\n",
       "      <td>2020-01-09</td>\n",
       "      <td>1803.987</td>\n",
       "      <td>Afghanistan</td>\n",
       "      <td>41128772.0</td>\n",
       "      <td>NaN</td>\n",
       "      <td>NaN</td>\n",
       "      <td>NaN</td>\n",
       "      <td>NaN</td>\n",
       "      <td>NaN</td>\n",
       "      <td>NaN</td>\n",
       "    </tr>\n",
       "    <tr>\n",
       "      <th>7</th>\n",
       "      <td>646684e5c50e0eddf0d85944</td>\n",
       "      <td>Asia</td>\n",
       "      <td>2020-01-10</td>\n",
       "      <td>1803.987</td>\n",
       "      <td>Afghanistan</td>\n",
       "      <td>41128772.0</td>\n",
       "      <td>NaN</td>\n",
       "      <td>NaN</td>\n",
       "      <td>NaN</td>\n",
       "      <td>NaN</td>\n",
       "      <td>NaN</td>\n",
       "      <td>NaN</td>\n",
       "    </tr>\n",
       "    <tr>\n",
       "      <th>8</th>\n",
       "      <td>646684e5c50e0eddf0d85945</td>\n",
       "      <td>Asia</td>\n",
       "      <td>2020-01-11</td>\n",
       "      <td>1803.987</td>\n",
       "      <td>Afghanistan</td>\n",
       "      <td>41128772.0</td>\n",
       "      <td>NaN</td>\n",
       "      <td>NaN</td>\n",
       "      <td>NaN</td>\n",
       "      <td>NaN</td>\n",
       "      <td>NaN</td>\n",
       "      <td>NaN</td>\n",
       "    </tr>\n",
       "    <tr>\n",
       "      <th>9</th>\n",
       "      <td>646684e5c50e0eddf0d85946</td>\n",
       "      <td>Asia</td>\n",
       "      <td>2020-01-12</td>\n",
       "      <td>1803.987</td>\n",
       "      <td>Afghanistan</td>\n",
       "      <td>41128772.0</td>\n",
       "      <td>NaN</td>\n",
       "      <td>NaN</td>\n",
       "      <td>NaN</td>\n",
       "      <td>NaN</td>\n",
       "      <td>NaN</td>\n",
       "      <td>NaN</td>\n",
       "    </tr>\n",
       "  </tbody>\n",
       "</table>\n",
       "</div>"
      ],
      "text/plain": [
       "                        _id continent        date  gdp_per_capita  \\\n",
       "0  646684e5c50e0eddf0d8593d      Asia  2020-01-03        1803.987   \n",
       "1  646684e5c50e0eddf0d8593e      Asia  2020-01-04        1803.987   \n",
       "2  646684e5c50e0eddf0d8593f      Asia  2020-01-05        1803.987   \n",
       "3  646684e5c50e0eddf0d85940      Asia  2020-01-06        1803.987   \n",
       "4  646684e5c50e0eddf0d85941      Asia  2020-01-07        1803.987   \n",
       "5  646684e5c50e0eddf0d85942      Asia  2020-01-08        1803.987   \n",
       "6  646684e5c50e0eddf0d85943      Asia  2020-01-09        1803.987   \n",
       "7  646684e5c50e0eddf0d85944      Asia  2020-01-10        1803.987   \n",
       "8  646684e5c50e0eddf0d85945      Asia  2020-01-11        1803.987   \n",
       "9  646684e5c50e0eddf0d85946      Asia  2020-01-12        1803.987   \n",
       "\n",
       "      location  population  total_cases_per_million  total_cases  \\\n",
       "0  Afghanistan  41128772.0                      NaN          NaN   \n",
       "1  Afghanistan  41128772.0                      NaN          NaN   \n",
       "2  Afghanistan  41128772.0                      NaN          NaN   \n",
       "3  Afghanistan  41128772.0                      NaN          NaN   \n",
       "4  Afghanistan  41128772.0                      NaN          NaN   \n",
       "5  Afghanistan  41128772.0                      NaN          NaN   \n",
       "6  Afghanistan  41128772.0                      NaN          NaN   \n",
       "7  Afghanistan  41128772.0                      NaN          NaN   \n",
       "8  Afghanistan  41128772.0                      NaN          NaN   \n",
       "9  Afghanistan  41128772.0                      NaN          NaN   \n",
       "\n",
       "   people_vaccinated  people_vaccinated_per_hundred  people_fully_vaccinated  \\\n",
       "0                NaN                            NaN                      NaN   \n",
       "1                NaN                            NaN                      NaN   \n",
       "2                NaN                            NaN                      NaN   \n",
       "3                NaN                            NaN                      NaN   \n",
       "4                NaN                            NaN                      NaN   \n",
       "5                NaN                            NaN                      NaN   \n",
       "6                NaN                            NaN                      NaN   \n",
       "7                NaN                            NaN                      NaN   \n",
       "8                NaN                            NaN                      NaN   \n",
       "9                NaN                            NaN                      NaN   \n",
       "\n",
       "   people_fully_vaccinated_per_hundred  \n",
       "0                                  NaN  \n",
       "1                                  NaN  \n",
       "2                                  NaN  \n",
       "3                                  NaN  \n",
       "4                                  NaN  \n",
       "5                                  NaN  \n",
       "6                                  NaN  \n",
       "7                                  NaN  \n",
       "8                                  NaN  \n",
       "9                                  NaN  "
      ]
     },
     "execution_count": 47,
     "metadata": {},
     "output_type": "execute_result"
    }
   ],
   "source": [
    "# Display the first 10 rows of the DataFrame\n",
    "df.head(10)"
   ]
  },
  {
   "cell_type": "code",
   "execution_count": 50,
   "id": "9e3dcf2f",
   "metadata": {},
   "outputs": [
    {
     "name": "stdout",
     "output_type": "stream",
     "text": [
      "<class 'pandas.core.frame.DataFrame'>\n",
      "RangeIndex: 309690 entries, 0 to 309689\n",
      "Data columns (total 12 columns):\n",
      " #   Column                               Non-Null Count   Dtype  \n",
      "---  ------                               --------------   -----  \n",
      " 0   _id                                  309690 non-null  object \n",
      " 1   continent                            294967 non-null  object \n",
      " 2   date                                 309690 non-null  object \n",
      " 3   gdp_per_capita                       239526 non-null  float64\n",
      " 4   location                             309690 non-null  object \n",
      " 5   population                           309690 non-null  float64\n",
      " 6   total_cases_per_million              273627 non-null  float64\n",
      " 7   total_cases                          273627 non-null  float64\n",
      " 8   people_vaccinated                    71627 non-null   float64\n",
      " 9   people_vaccinated_per_hundred        71627 non-null   float64\n",
      " 10  people_fully_vaccinated              69395 non-null   float64\n",
      " 11  people_fully_vaccinated_per_hundred  69395 non-null   float64\n",
      "dtypes: float64(8), object(4)\n",
      "memory usage: 28.4+ MB\n"
     ]
    }
   ],
   "source": [
    "# Examine data type of each column\n",
    "df.info()"
   ]
  },
  {
   "cell_type": "code",
   "execution_count": 51,
   "id": "d35fdec2",
   "metadata": {},
   "outputs": [],
   "source": [
    "# Change data types for data analysis\n",
    "df['date'] = pd.to_datetime(df['date'])"
   ]
  },
  {
   "cell_type": "code",
   "execution_count": 52,
   "id": "3beb18c6",
   "metadata": {},
   "outputs": [
    {
     "name": "stdout",
     "output_type": "stream",
     "text": [
      "<class 'pandas.core.frame.DataFrame'>\n",
      "RangeIndex: 309690 entries, 0 to 309689\n",
      "Data columns (total 12 columns):\n",
      " #   Column                               Non-Null Count   Dtype         \n",
      "---  ------                               --------------   -----         \n",
      " 0   _id                                  309690 non-null  object        \n",
      " 1   continent                            294967 non-null  object        \n",
      " 2   date                                 309690 non-null  datetime64[ns]\n",
      " 3   gdp_per_capita                       239526 non-null  float64       \n",
      " 4   location                             309690 non-null  object        \n",
      " 5   population                           309690 non-null  float64       \n",
      " 6   total_cases_per_million              273627 non-null  float64       \n",
      " 7   total_cases                          273627 non-null  float64       \n",
      " 8   people_vaccinated                    71627 non-null   float64       \n",
      " 9   people_vaccinated_per_hundred        71627 non-null   float64       \n",
      " 10  people_fully_vaccinated              69395 non-null   float64       \n",
      " 11  people_fully_vaccinated_per_hundred  69395 non-null   float64       \n",
      "dtypes: datetime64[ns](1), float64(8), object(3)\n",
      "memory usage: 28.4+ MB\n"
     ]
    }
   ],
   "source": [
    "# Confirm type changes were successful by examining data types again\n",
    "df.info()"
   ]
  },
  {
   "cell_type": "code",
   "execution_count": 58,
   "id": "7ac855e2",
   "metadata": {},
   "outputs": [
    {
     "name": "stdout",
     "output_type": "stream",
     "text": [
      "<class 'pandas.core.frame.DataFrame'>\n",
      "Int64Index: 49465 entries, 494 to 309476\n",
      "Data columns (total 12 columns):\n",
      " #   Column                               Non-Null Count  Dtype         \n",
      "---  ------                               --------------  -----         \n",
      " 0   _id                                  49465 non-null  object        \n",
      " 1   continent                            49465 non-null  object        \n",
      " 2   date                                 49465 non-null  datetime64[ns]\n",
      " 3   gdp_per_capita                       49465 non-null  float64       \n",
      " 4   location                             49465 non-null  object        \n",
      " 5   population                           49465 non-null  float64       \n",
      " 6   total_cases_per_million              49465 non-null  float64       \n",
      " 7   total_cases                          49465 non-null  float64       \n",
      " 8   people_vaccinated                    49465 non-null  float64       \n",
      " 9   people_vaccinated_per_hundred        49465 non-null  float64       \n",
      " 10  people_fully_vaccinated              49465 non-null  float64       \n",
      " 11  people_fully_vaccinated_per_hundred  49465 non-null  float64       \n",
      "dtypes: datetime64[ns](1), float64(8), object(3)\n",
      "memory usage: 4.9+ MB\n"
     ]
    }
   ],
   "source": [
    "#Getting rid of missing values (NaN) using drop, inplace=true saves the 'dropped' data\n",
    "df.dropna(inplace=True)\n",
    "df.info()"
   ]
  },
  {
   "cell_type": "code",
   "execution_count": 60,
   "id": "67c47b4b",
   "metadata": {},
   "outputs": [
    {
     "data": {
      "text/html": [
       "<div>\n",
       "<style scoped>\n",
       "    .dataframe tbody tr th:only-of-type {\n",
       "        vertical-align: middle;\n",
       "    }\n",
       "\n",
       "    .dataframe tbody tr th {\n",
       "        vertical-align: top;\n",
       "    }\n",
       "\n",
       "    .dataframe thead th {\n",
       "        text-align: right;\n",
       "    }\n",
       "</style>\n",
       "<table border=\"1\" class=\"dataframe\">\n",
       "  <thead>\n",
       "    <tr style=\"text-align: right;\">\n",
       "      <th></th>\n",
       "      <th>_id</th>\n",
       "      <th>continent</th>\n",
       "      <th>date</th>\n",
       "      <th>gdp_per_capita</th>\n",
       "      <th>location</th>\n",
       "      <th>population</th>\n",
       "      <th>total_cases_per_million</th>\n",
       "      <th>total_cases</th>\n",
       "      <th>people_vaccinated</th>\n",
       "      <th>people_vaccinated_per_hundred</th>\n",
       "      <th>people_fully_vaccinated</th>\n",
       "      <th>people_fully_vaccinated_per_hundred</th>\n",
       "    </tr>\n",
       "  </thead>\n",
       "  <tbody>\n",
       "    <tr>\n",
       "      <th>494</th>\n",
       "      <td>646684e5c50e0eddf0d85b2b</td>\n",
       "      <td>Asia</td>\n",
       "      <td>2021-05-11</td>\n",
       "      <td>1803.987</td>\n",
       "      <td>Afghanistan</td>\n",
       "      <td>41128772.0</td>\n",
       "      <td>1517.259</td>\n",
       "      <td>62403.0</td>\n",
       "      <td>448878.0</td>\n",
       "      <td>1.09</td>\n",
       "      <td>55624.0</td>\n",
       "      <td>0.14</td>\n",
       "    </tr>\n",
       "    <tr>\n",
       "      <th>503</th>\n",
       "      <td>646684e5c50e0eddf0d85b34</td>\n",
       "      <td>Asia</td>\n",
       "      <td>2021-05-20</td>\n",
       "      <td>1803.987</td>\n",
       "      <td>Afghanistan</td>\n",
       "      <td>41128772.0</td>\n",
       "      <td>1570.069</td>\n",
       "      <td>64575.0</td>\n",
       "      <td>470341.0</td>\n",
       "      <td>1.14</td>\n",
       "      <td>77560.0</td>\n",
       "      <td>0.19</td>\n",
       "    </tr>\n",
       "    <tr>\n",
       "      <th>507</th>\n",
       "      <td>646684e5c50e0eddf0d85b38</td>\n",
       "      <td>Asia</td>\n",
       "      <td>2021-05-24</td>\n",
       "      <td>1803.987</td>\n",
       "      <td>Afghanistan</td>\n",
       "      <td>41128772.0</td>\n",
       "      <td>1611.402</td>\n",
       "      <td>66275.0</td>\n",
       "      <td>476367.0</td>\n",
       "      <td>1.16</td>\n",
       "      <td>96910.0</td>\n",
       "      <td>0.24</td>\n",
       "    </tr>\n",
       "    <tr>\n",
       "      <th>509</th>\n",
       "      <td>646684e5c50e0eddf0d85b3a</td>\n",
       "      <td>Asia</td>\n",
       "      <td>2021-05-26</td>\n",
       "      <td>1803.987</td>\n",
       "      <td>Afghanistan</td>\n",
       "      <td>41128772.0</td>\n",
       "      <td>1647.095</td>\n",
       "      <td>67743.0</td>\n",
       "      <td>479372.0</td>\n",
       "      <td>1.17</td>\n",
       "      <td>111082.0</td>\n",
       "      <td>0.27</td>\n",
       "    </tr>\n",
       "    <tr>\n",
       "      <th>510</th>\n",
       "      <td>646684e5c50e0eddf0d85b3b</td>\n",
       "      <td>Asia</td>\n",
       "      <td>2021-05-27</td>\n",
       "      <td>1803.987</td>\n",
       "      <td>Afghanistan</td>\n",
       "      <td>41128772.0</td>\n",
       "      <td>1662.243</td>\n",
       "      <td>68366.0</td>\n",
       "      <td>479574.0</td>\n",
       "      <td>1.17</td>\n",
       "      <td>113739.0</td>\n",
       "      <td>0.28</td>\n",
       "    </tr>\n",
       "  </tbody>\n",
       "</table>\n",
       "</div>"
      ],
      "text/plain": [
       "                          _id continent       date  gdp_per_capita  \\\n",
       "494  646684e5c50e0eddf0d85b2b      Asia 2021-05-11        1803.987   \n",
       "503  646684e5c50e0eddf0d85b34      Asia 2021-05-20        1803.987   \n",
       "507  646684e5c50e0eddf0d85b38      Asia 2021-05-24        1803.987   \n",
       "509  646684e5c50e0eddf0d85b3a      Asia 2021-05-26        1803.987   \n",
       "510  646684e5c50e0eddf0d85b3b      Asia 2021-05-27        1803.987   \n",
       "\n",
       "        location  population  total_cases_per_million  total_cases  \\\n",
       "494  Afghanistan  41128772.0                 1517.259      62403.0   \n",
       "503  Afghanistan  41128772.0                 1570.069      64575.0   \n",
       "507  Afghanistan  41128772.0                 1611.402      66275.0   \n",
       "509  Afghanistan  41128772.0                 1647.095      67743.0   \n",
       "510  Afghanistan  41128772.0                 1662.243      68366.0   \n",
       "\n",
       "     people_vaccinated  people_vaccinated_per_hundred  \\\n",
       "494           448878.0                           1.09   \n",
       "503           470341.0                           1.14   \n",
       "507           476367.0                           1.16   \n",
       "509           479372.0                           1.17   \n",
       "510           479574.0                           1.17   \n",
       "\n",
       "     people_fully_vaccinated  people_fully_vaccinated_per_hundred  \n",
       "494                  55624.0                                 0.14  \n",
       "503                  77560.0                                 0.19  \n",
       "507                  96910.0                                 0.24  \n",
       "509                 111082.0                                 0.27  \n",
       "510                 113739.0                                 0.28  "
      ]
     },
     "execution_count": 60,
     "metadata": {},
     "output_type": "execute_result"
    }
   ],
   "source": [
    "df.head()\n"
   ]
  },
  {
   "cell_type": "code",
   "execution_count": 62,
   "id": "b84645e3",
   "metadata": {},
   "outputs": [],
   "source": [
    "#Saving clean_df to Resources\n",
    "clean_df = df\n",
    "clean_df.to_csv('clean_df.csv',index=False)"
   ]
  },
  {
   "cell_type": "code",
   "execution_count": null,
   "id": "384ca84d",
   "metadata": {},
   "outputs": [],
   "source": []
  }
 ],
 "metadata": {
  "kernelspec": {
   "display_name": "Python 3 (ipykernel)",
   "language": "python",
   "name": "python3"
  },
  "language_info": {
   "codemirror_mode": {
    "name": "ipython",
    "version": 3
   },
   "file_extension": ".py",
   "mimetype": "text/x-python",
   "name": "python",
   "nbconvert_exporter": "python",
   "pygments_lexer": "ipython3",
   "version": "3.9.13"
  }
 },
 "nbformat": 4,
 "nbformat_minor": 5
}
